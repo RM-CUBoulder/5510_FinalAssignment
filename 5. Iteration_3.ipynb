{
 "cells": [
  {
   "cell_type": "code",
   "execution_count": 1,
   "id": "f2d75759-c30f-414e-979b-5ed39d214145",
   "metadata": {
    "execution": {
     "iopub.execute_input": "2025-06-14T17:39:02.942219Z",
     "iopub.status.busy": "2025-06-14T17:39:02.941878Z",
     "iopub.status.idle": "2025-06-14T17:39:09.955681Z",
     "shell.execute_reply": "2025-06-14T17:39:09.955106Z",
     "shell.execute_reply.started": "2025-06-14T17:39:02.942188Z"
    }
   },
   "outputs": [],
   "source": [
    "import pandas as pd\n",
    "import numpy as np\n",
    "import matplotlib.pyplot as plt\n",
    "import seaborn as sns\n",
    "from sklearn.feature_extraction.text import TfidfVectorizer\n",
    "from sklearn.decomposition import PCA\n",
    "from sklearn.model_selection import train_test_split\n",
    "from sklearn.decomposition import TruncatedSVD\n",
    "from sklearn.linear_model import LogisticRegression\n",
    "from sklearn.model_selection import cross_validate, GridSearchCV\n",
    "from sklearn.metrics import accuracy_score, auc, confusion_matrix, ConfusionMatrixDisplay,roc_curve\n",
    "from sklearn.svm import SVC\n",
    "from time import time"
   ]
  },
  {
   "cell_type": "code",
   "execution_count": 2,
   "id": "c1d8b72f-703a-4718-ae51-700d2c5f85cc",
   "metadata": {
    "execution": {
     "iopub.execute_input": "2025-06-14T17:39:09.957280Z",
     "iopub.status.busy": "2025-06-14T17:39:09.956902Z",
     "iopub.status.idle": "2025-06-14T17:39:10.247926Z",
     "shell.execute_reply": "2025-06-14T17:39:10.247313Z",
     "shell.execute_reply.started": "2025-06-14T17:39:09.957260Z"
    },
    "scrolled": true
   },
   "outputs": [
    {
     "data": {
      "text/html": [
       "<div>\n",
       "<style scoped>\n",
       "    .dataframe tbody tr th:only-of-type {\n",
       "        vertical-align: middle;\n",
       "    }\n",
       "\n",
       "    .dataframe tbody tr th {\n",
       "        vertical-align: top;\n",
       "    }\n",
       "\n",
       "    .dataframe thead th {\n",
       "        text-align: right;\n",
       "    }\n",
       "</style>\n",
       "<table border=\"1\" class=\"dataframe\">\n",
       "  <thead>\n",
       "    <tr style=\"text-align: right;\">\n",
       "      <th></th>\n",
       "      <th>ID</th>\n",
       "      <th>seniority_level</th>\n",
       "      <th>desc_clean</th>\n",
       "    </tr>\n",
       "  </thead>\n",
       "  <tbody>\n",
       "    <tr>\n",
       "      <th>0</th>\n",
       "      <td>1</td>\n",
       "      <td>Mid-Senior level</td>\n",
       "      <td>company descriptionthe ikigai platform unlocks...</td>\n",
       "    </tr>\n",
       "    <tr>\n",
       "      <th>1</th>\n",
       "      <td>4</td>\n",
       "      <td>Mid-Senior level</td>\n",
       "      <td>job title : engineerlocation : remotewho we ar...</td>\n",
       "    </tr>\n",
       "    <tr>\n",
       "      <th>2</th>\n",
       "      <td>21</td>\n",
       "      <td>Mid-Senior level</td>\n",
       "      <td>about usnational grid is hiring a senior data ...</td>\n",
       "    </tr>\n",
       "    <tr>\n",
       "      <th>3</th>\n",
       "      <td>22</td>\n",
       "      <td>Mid-Senior level</td>\n",
       "      <td>about usnational grid is hiring a senior data ...</td>\n",
       "    </tr>\n",
       "    <tr>\n",
       "      <th>4</th>\n",
       "      <td>23</td>\n",
       "      <td>Mid-Senior level</td>\n",
       "      <td>about usnational grid is hiring a senior data ...</td>\n",
       "    </tr>\n",
       "    <tr>\n",
       "      <th>...</th>\n",
       "      <td>...</td>\n",
       "      <td>...</td>\n",
       "      <td>...</td>\n",
       "    </tr>\n",
       "    <tr>\n",
       "      <th>736</th>\n",
       "      <td>965</td>\n",
       "      <td>Junior level</td>\n",
       "      <td>what is aviture ? aviture is a full-service te...</td>\n",
       "    </tr>\n",
       "    <tr>\n",
       "      <th>737</th>\n",
       "      <td>976</td>\n",
       "      <td>Junior level</td>\n",
       "      <td>location : us remotejob summarywe are seeking ...</td>\n",
       "    </tr>\n",
       "    <tr>\n",
       "      <th>738</th>\n",
       "      <td>980</td>\n",
       "      <td>Junior level</td>\n",
       "      <td>responsibilitiesthe business risk integrated c...</td>\n",
       "    </tr>\n",
       "    <tr>\n",
       "      <th>739</th>\n",
       "      <td>981</td>\n",
       "      <td>Junior level</td>\n",
       "      <td>location : us remotejob summarywe are seeking ...</td>\n",
       "    </tr>\n",
       "    <tr>\n",
       "      <th>740</th>\n",
       "      <td>982</td>\n",
       "      <td>Junior level</td>\n",
       "      <td>location : us remotejob summarywe are seeking ...</td>\n",
       "    </tr>\n",
       "  </tbody>\n",
       "</table>\n",
       "<p>741 rows × 3 columns</p>\n",
       "</div>"
      ],
      "text/plain": [
       "      ID   seniority_level                                         desc_clean\n",
       "0      1  Mid-Senior level  company descriptionthe ikigai platform unlocks...\n",
       "1      4  Mid-Senior level  job title : engineerlocation : remotewho we ar...\n",
       "2     21  Mid-Senior level  about usnational grid is hiring a senior data ...\n",
       "3     22  Mid-Senior level  about usnational grid is hiring a senior data ...\n",
       "4     23  Mid-Senior level  about usnational grid is hiring a senior data ...\n",
       "..   ...               ...                                                ...\n",
       "736  965      Junior level  what is aviture ? aviture is a full-service te...\n",
       "737  976      Junior level  location : us remotejob summarywe are seeking ...\n",
       "738  980      Junior level  responsibilitiesthe business risk integrated c...\n",
       "739  981      Junior level  location : us remotejob summarywe are seeking ...\n",
       "740  982      Junior level  location : us remotejob summarywe are seeking ...\n",
       "\n",
       "[741 rows x 3 columns]"
      ]
     },
     "execution_count": 2,
     "metadata": {},
     "output_type": "execute_result"
    }
   ],
   "source": [
    "# Read dataset\n",
    "df = pd.read_csv('model_dataset_att2.csv')\n",
    "df"
   ]
  },
  {
   "cell_type": "code",
   "execution_count": 3,
   "id": "4e597d96-0ce2-4017-9e13-d5e5c742e1c8",
   "metadata": {
    "execution": {
     "iopub.execute_input": "2025-06-14T17:39:10.248998Z",
     "iopub.status.busy": "2025-06-14T17:39:10.248709Z",
     "iopub.status.idle": "2025-06-14T17:39:13.252121Z",
     "shell.execute_reply": "2025-06-14T17:39:13.251536Z",
     "shell.execute_reply.started": "2025-06-14T17:39:10.248979Z"
    }
   },
   "outputs": [],
   "source": [
    "# Fitting and transforming the vacancy texts with TF-IDF vectorizer\n",
    "vectorizer = TfidfVectorizer(stop_words = 'english', sublinear_tf = True, ngram_range = (1,2), norm = 'l2', min_df = 4)\n",
    "features = vectorizer.fit_transform(df.desc_clean).toarray()\n",
    "\n",
    "# Splitting 'features' and the dependent variable (df.seniority_level) into a train and test set\n",
    "X_train, X_test, y_train, y_test = train_test_split(\n",
    "    features, df.seniority_level, train_size=500, random_state=862025)"
   ]
  },
  {
   "cell_type": "code",
   "execution_count": 4,
   "id": "639ba6e4-a5f3-45ce-9c1b-5432a5fedcb7",
   "metadata": {
    "execution": {
     "iopub.execute_input": "2025-06-14T17:39:13.254073Z",
     "iopub.status.busy": "2025-06-14T17:39:13.253747Z",
     "iopub.status.idle": "2025-06-14T17:39:13.258386Z",
     "shell.execute_reply": "2025-06-14T17:39:13.257745Z",
     "shell.execute_reply.started": "2025-06-14T17:39:13.254046Z"
    }
   },
   "outputs": [
    {
     "data": {
      "text/markdown": [
       "# Singular Value Decomposition\n",
       "In iterations 1 and 2, I trained the model after performing singular value decomposition resulting in 70 components. \n",
       "Because more components result in a higher explained variance (and presumably better performing models) I decide to train versions of the SVD with 70, 100, 130 and 160 components.<br>\n",
       "Even though it takes the most time to train, the 160 components account for two thirds of explained variance. Thus 160 components is the choice.  \n"
      ],
      "text/plain": [
       "<IPython.core.display.Markdown object>"
      ]
     },
     "metadata": {},
     "output_type": "display_data"
    }
   ],
   "source": [
    "%%markdown\n",
    "# Singular Value Decomposition\n",
    "In iterations 1 and 2, I trained the model after performing singular value decomposition resulting in 70 components. \n",
    "Because more components result in a higher explained variance (and presumably better performing models) I decide to train versions of the SVD with 70, 100, 130 and 160 components.<br>\n",
    "Even though it takes the most time to train, the 160 components account for two thirds of explained variance. Thus 160 components is the choice.  "
   ]
  },
  {
   "cell_type": "code",
   "execution_count": 9,
   "id": "ac701147-55d0-481a-a076-22b9b4810ca5",
   "metadata": {
    "execution": {
     "iopub.execute_input": "2025-06-11T19:07:30.090090Z",
     "iopub.status.busy": "2025-06-11T19:07:30.089731Z",
     "iopub.status.idle": "2025-06-11T19:16:19.166700Z",
     "shell.execute_reply": "2025-06-11T19:16:19.166029Z",
     "shell.execute_reply.started": "2025-06-11T19:07:30.090067Z"
    }
   },
   "outputs": [
    {
     "data": {
      "text/html": [
       "<div>\n",
       "<style scoped>\n",
       "    .dataframe tbody tr th:only-of-type {\n",
       "        vertical-align: middle;\n",
       "    }\n",
       "\n",
       "    .dataframe tbody tr th {\n",
       "        vertical-align: top;\n",
       "    }\n",
       "\n",
       "    .dataframe thead th {\n",
       "        text-align: right;\n",
       "    }\n",
       "</style>\n",
       "<table border=\"1\" class=\"dataframe\">\n",
       "  <thead>\n",
       "    <tr style=\"text-align: right;\">\n",
       "      <th></th>\n",
       "      <th>Components</th>\n",
       "      <th>ExplainedVar</th>\n",
       "      <th>Time (sec)</th>\n",
       "    </tr>\n",
       "  </thead>\n",
       "  <tbody>\n",
       "    <tr>\n",
       "      <th>0</th>\n",
       "      <td>70</td>\n",
       "      <td>0.450163</td>\n",
       "      <td>81.454355</td>\n",
       "    </tr>\n",
       "    <tr>\n",
       "      <th>1</th>\n",
       "      <td>100</td>\n",
       "      <td>0.536435</td>\n",
       "      <td>112.903211</td>\n",
       "    </tr>\n",
       "    <tr>\n",
       "      <th>2</th>\n",
       "      <td>130</td>\n",
       "      <td>0.609399</td>\n",
       "      <td>150.600541</td>\n",
       "    </tr>\n",
       "    <tr>\n",
       "      <th>3</th>\n",
       "      <td>160</td>\n",
       "      <td>0.674723</td>\n",
       "      <td>184.109929</td>\n",
       "    </tr>\n",
       "  </tbody>\n",
       "</table>\n",
       "</div>"
      ],
      "text/plain": [
       "   Components  ExplainedVar  Time (sec)\n",
       "0          70      0.450163   81.454355\n",
       "1         100      0.536435  112.903211\n",
       "2         130      0.609399  150.600541\n",
       "3         160      0.674723  184.109929"
      ]
     },
     "execution_count": 9,
     "metadata": {},
     "output_type": "execute_result"
    }
   ],
   "source": [
    "# For loop to look at explained variance and performance of computed components\n",
    "components_SVD = [70, 100, 130, 160]\n",
    "variance_ratio_list = []\n",
    "\n",
    "for component in components_SVD:\n",
    "    begin_hier = time()\n",
    "    svd = TruncatedSVD(n_components = component, algorithm = 'arpack')\n",
    "    features_reduced = svd.fit_transform(X_train)\n",
    "    end_hier = time()\n",
    "    tijd = end_hier - begin_hier\n",
    "    \n",
    "    variance_ratio_list.append([component, svd.explained_variance_ratio_.sum(), tijd])\n",
    "\n",
    "SVD_Results = pd.DataFrame(variance_ratio_list, columns=['Components', 'ExplainedVar', 'Time (sec)'])\n",
    "SVD_Results"
   ]
  },
  {
   "cell_type": "code",
   "execution_count": 5,
   "id": "88d7c913-8e3d-42f8-aa0c-9e9613e405fd",
   "metadata": {
    "execution": {
     "iopub.execute_input": "2025-06-14T17:40:34.225280Z",
     "iopub.status.busy": "2025-06-14T17:40:34.224960Z",
     "iopub.status.idle": "2025-06-14T17:41:55.564827Z",
     "shell.execute_reply": "2025-06-14T17:41:55.564283Z",
     "shell.execute_reply.started": "2025-06-14T17:40:34.225255Z"
    }
   },
   "outputs": [],
   "source": [
    "# The final SVD with 160 components\n",
    "svd = TruncatedSVD(n_components = 160, algorithm = 'arpack')\n",
    "X_train_svd = svd.fit_transform(X_train)"
   ]
  },
  {
   "cell_type": "code",
   "execution_count": 6,
   "id": "746ce861-fe5c-4e86-b16d-e932826320f7",
   "metadata": {
    "execution": {
     "iopub.execute_input": "2025-06-14T17:41:55.566295Z",
     "iopub.status.busy": "2025-06-14T17:41:55.566050Z",
     "iopub.status.idle": "2025-06-14T17:41:55.646627Z",
     "shell.execute_reply": "2025-06-14T17:41:55.646100Z",
     "shell.execute_reply.started": "2025-06-14T17:41:55.566277Z"
    }
   },
   "outputs": [
    {
     "data": {
      "text/markdown": [
       "# Iteration 3\n",
       "### Model training and evaluation\n",
       "The steps are identical to those in the training phase of the notebooks 'Iteration_1' and 'Iteration_2':\n",
       "* Perform a grid search to find the best C parameter. \n",
       "* Do a cross validation on the best estimator of the training data. \n",
       "    * Evaluate the cross validation on accuracy and the Area Under Curve (AUC) score.\n"
      ],
      "text/plain": [
       "<IPython.core.display.Markdown object>"
      ]
     },
     "metadata": {},
     "output_type": "display_data"
    }
   ],
   "source": [
    "%%markdown\n",
    "# Iteration 3\n",
    "### Model training and evaluation\n",
    "The steps are identical to those in the training phase of the notebooks 'Iteration_1' and 'Iteration_2':\n",
    "* Perform a grid search to find the best C parameter. \n",
    "* Do a cross validation on the best estimator of the training data. \n",
    "    * Evaluate the cross validation on accuracy and the Area Under Curve (AUC) score."
   ]
  },
  {
   "cell_type": "code",
   "execution_count": 7,
   "id": "2a2547be-406e-4221-99f3-97ac55e1b946",
   "metadata": {
    "execution": {
     "iopub.execute_input": "2025-06-14T17:41:55.647598Z",
     "iopub.status.busy": "2025-06-14T17:41:55.647372Z",
     "iopub.status.idle": "2025-06-14T17:42:15.146526Z",
     "shell.execute_reply": "2025-06-14T17:42:15.145479Z",
     "shell.execute_reply.started": "2025-06-14T17:41:55.647583Z"
    }
   },
   "outputs": [
    {
     "data": {
      "text/plain": [
       "{'fit_time': array([0.19665217, 0.10073805, 0.10122466]),\n",
       " 'score_time': array([0.10006738, 0.09870315, 0.09810162]),\n",
       " 'test_accuracy': array([0.73652695, 0.62275449, 0.65662651]),\n",
       " 'test_roc_auc': array([0.8062249 , 0.70840505, 0.71868196])}"
      ]
     },
     "execution_count": 7,
     "metadata": {},
     "output_type": "execute_result"
    }
   ],
   "source": [
    "C_grid = np.linspace(0.01,5,10)\n",
    "parameters = {'C': C_grid}\n",
    "\n",
    "Logit_grid = LogisticRegression()\n",
    "Log_gs_cv = GridSearchCV(Logit_grid, parameters).fit(X_train_svd, y_train)\n",
    "\n",
    "cv_log_model = cross_validate(Log_gs_cv.best_estimator_, X_train_svd, y_train, \n",
    "                              cv = 3, scoring = ('accuracy', 'roc_auc'))\n",
    "\n",
    "cv_log_model"
   ]
  },
  {
   "cell_type": "code",
   "execution_count": 8,
   "id": "9c4fca47-e75a-4a48-95b5-dcf9368a7f11",
   "metadata": {
    "execution": {
     "iopub.execute_input": "2025-06-14T17:42:15.148552Z",
     "iopub.status.busy": "2025-06-14T17:42:15.147802Z",
     "iopub.status.idle": "2025-06-14T17:42:15.248138Z",
     "shell.execute_reply": "2025-06-14T17:42:15.247663Z",
     "shell.execute_reply.started": "2025-06-14T17:42:15.148520Z"
    },
    "scrolled": true
   },
   "outputs": [
    {
     "data": {
      "text/html": [
       "<style>#sk-container-id-1 {color: black;}#sk-container-id-1 pre{padding: 0;}#sk-container-id-1 div.sk-toggleable {background-color: white;}#sk-container-id-1 label.sk-toggleable__label {cursor: pointer;display: block;width: 100%;margin-bottom: 0;padding: 0.3em;box-sizing: border-box;text-align: center;}#sk-container-id-1 label.sk-toggleable__label-arrow:before {content: \"▸\";float: left;margin-right: 0.25em;color: #696969;}#sk-container-id-1 label.sk-toggleable__label-arrow:hover:before {color: black;}#sk-container-id-1 div.sk-estimator:hover label.sk-toggleable__label-arrow:before {color: black;}#sk-container-id-1 div.sk-toggleable__content {max-height: 0;max-width: 0;overflow: hidden;text-align: left;background-color: #f0f8ff;}#sk-container-id-1 div.sk-toggleable__content pre {margin: 0.2em;color: black;border-radius: 0.25em;background-color: #f0f8ff;}#sk-container-id-1 input.sk-toggleable__control:checked~div.sk-toggleable__content {max-height: 200px;max-width: 100%;overflow: auto;}#sk-container-id-1 input.sk-toggleable__control:checked~label.sk-toggleable__label-arrow:before {content: \"▾\";}#sk-container-id-1 div.sk-estimator input.sk-toggleable__control:checked~label.sk-toggleable__label {background-color: #d4ebff;}#sk-container-id-1 div.sk-label input.sk-toggleable__control:checked~label.sk-toggleable__label {background-color: #d4ebff;}#sk-container-id-1 input.sk-hidden--visually {border: 0;clip: rect(1px 1px 1px 1px);clip: rect(1px, 1px, 1px, 1px);height: 1px;margin: -1px;overflow: hidden;padding: 0;position: absolute;width: 1px;}#sk-container-id-1 div.sk-estimator {font-family: monospace;background-color: #f0f8ff;border: 1px dotted black;border-radius: 0.25em;box-sizing: border-box;margin-bottom: 0.5em;}#sk-container-id-1 div.sk-estimator:hover {background-color: #d4ebff;}#sk-container-id-1 div.sk-parallel-item::after {content: \"\";width: 100%;border-bottom: 1px solid gray;flex-grow: 1;}#sk-container-id-1 div.sk-label:hover label.sk-toggleable__label {background-color: #d4ebff;}#sk-container-id-1 div.sk-serial::before {content: \"\";position: absolute;border-left: 1px solid gray;box-sizing: border-box;top: 0;bottom: 0;left: 50%;z-index: 0;}#sk-container-id-1 div.sk-serial {display: flex;flex-direction: column;align-items: center;background-color: white;padding-right: 0.2em;padding-left: 0.2em;position: relative;}#sk-container-id-1 div.sk-item {position: relative;z-index: 1;}#sk-container-id-1 div.sk-parallel {display: flex;align-items: stretch;justify-content: center;background-color: white;position: relative;}#sk-container-id-1 div.sk-item::before, #sk-container-id-1 div.sk-parallel-item::before {content: \"\";position: absolute;border-left: 1px solid gray;box-sizing: border-box;top: 0;bottom: 0;left: 50%;z-index: -1;}#sk-container-id-1 div.sk-parallel-item {display: flex;flex-direction: column;z-index: 1;position: relative;background-color: white;}#sk-container-id-1 div.sk-parallel-item:first-child::after {align-self: flex-end;width: 50%;}#sk-container-id-1 div.sk-parallel-item:last-child::after {align-self: flex-start;width: 50%;}#sk-container-id-1 div.sk-parallel-item:only-child::after {width: 0;}#sk-container-id-1 div.sk-dashed-wrapped {border: 1px dashed gray;margin: 0 0.4em 0.5em 0.4em;box-sizing: border-box;padding-bottom: 0.4em;background-color: white;}#sk-container-id-1 div.sk-label label {font-family: monospace;font-weight: bold;display: inline-block;line-height: 1.2em;}#sk-container-id-1 div.sk-label-container {text-align: center;}#sk-container-id-1 div.sk-container {/* jupyter's `normalize.less` sets `[hidden] { display: none; }` but bootstrap.min.css set `[hidden] { display: none !important; }` so we also need the `!important` here to be able to override the default hidden behavior on the sphinx rendered scikit-learn.org. See: https://github.com/scikit-learn/scikit-learn/issues/21755 */display: inline-block !important;position: relative;}#sk-container-id-1 div.sk-text-repr-fallback {display: none;}</style><div id=\"sk-container-id-1\" class=\"sk-top-container\"><div class=\"sk-text-repr-fallback\"><pre>LogisticRegression(C=0.5644444444444445)</pre><b>In a Jupyter environment, please rerun this cell to show the HTML representation or trust the notebook. <br />On GitHub, the HTML representation is unable to render, please try loading this page with nbviewer.org.</b></div><div class=\"sk-container\" hidden><div class=\"sk-item\"><div class=\"sk-estimator sk-toggleable\"><input class=\"sk-toggleable__control sk-hidden--visually\" id=\"sk-estimator-id-1\" type=\"checkbox\" checked><label for=\"sk-estimator-id-1\" class=\"sk-toggleable__label sk-toggleable__label-arrow\">LogisticRegression</label><div class=\"sk-toggleable__content\"><pre>LogisticRegression(C=0.5644444444444445)</pre></div></div></div></div></div>"
      ],
      "text/plain": [
       "LogisticRegression(C=0.5644444444444445)"
      ]
     },
     "execution_count": 8,
     "metadata": {},
     "output_type": "execute_result"
    }
   ],
   "source": [
    "Log_gs_cv.best_estimator_"
   ]
  },
  {
   "cell_type": "code",
   "execution_count": 9,
   "id": "ccacdbc3-8915-4003-8d0b-ee12dd817d24",
   "metadata": {
    "execution": {
     "iopub.execute_input": "2025-06-14T17:42:15.249808Z",
     "iopub.status.busy": "2025-06-14T17:42:15.249324Z",
     "iopub.status.idle": "2025-06-14T17:42:37.552921Z",
     "shell.execute_reply": "2025-06-14T17:42:37.552375Z",
     "shell.execute_reply.started": "2025-06-14T17:42:15.249765Z"
    }
   },
   "outputs": [
    {
     "data": {
      "text/plain": [
       "{'fit_time': array([0.19252753, 0.19158792, 0.19431973]),\n",
       " 'score_time': array([0.09198713, 0.01747704, 0.09245825]),\n",
       " 'test_accuracy': array([0.71257485, 0.61077844, 0.65662651]),\n",
       " 'test_roc_auc': array([0.79302926, 0.65748709, 0.74568152])}"
      ]
     },
     "execution_count": 9,
     "metadata": {},
     "output_type": "execute_result"
    }
   ],
   "source": [
    "C_grid = np.linspace(0.01,5,10)\n",
    "kernel_grid = ['rbf', 'linear'] \n",
    "parameters = {'C': C_grid, 'kernel': kernel_grid}\n",
    "\n",
    "SVM_grid = SVC(probability= True)\n",
    "Svm_gs_cv = GridSearchCV(SVM_grid, parameters).fit(X_train_svd, y_train)\n",
    "\n",
    "cv_svm_model = cross_validate(Svm_gs_cv.best_estimator_, X_train_svd, y_train, \n",
    "                              cv = 3, scoring = ('accuracy', 'roc_auc'))\n",
    "\n",
    "cv_svm_model"
   ]
  },
  {
   "cell_type": "code",
   "execution_count": 10,
   "id": "4c48a96c-0397-469c-ae41-760b6677d2c6",
   "metadata": {
    "execution": {
     "iopub.execute_input": "2025-06-14T17:42:37.554037Z",
     "iopub.status.busy": "2025-06-14T17:42:37.553722Z",
     "iopub.status.idle": "2025-06-14T17:42:37.558156Z",
     "shell.execute_reply": "2025-06-14T17:42:37.557604Z",
     "shell.execute_reply.started": "2025-06-14T17:42:37.554019Z"
    }
   },
   "outputs": [
    {
     "data": {
      "text/html": [
       "<style>#sk-container-id-2 {color: black;}#sk-container-id-2 pre{padding: 0;}#sk-container-id-2 div.sk-toggleable {background-color: white;}#sk-container-id-2 label.sk-toggleable__label {cursor: pointer;display: block;width: 100%;margin-bottom: 0;padding: 0.3em;box-sizing: border-box;text-align: center;}#sk-container-id-2 label.sk-toggleable__label-arrow:before {content: \"▸\";float: left;margin-right: 0.25em;color: #696969;}#sk-container-id-2 label.sk-toggleable__label-arrow:hover:before {color: black;}#sk-container-id-2 div.sk-estimator:hover label.sk-toggleable__label-arrow:before {color: black;}#sk-container-id-2 div.sk-toggleable__content {max-height: 0;max-width: 0;overflow: hidden;text-align: left;background-color: #f0f8ff;}#sk-container-id-2 div.sk-toggleable__content pre {margin: 0.2em;color: black;border-radius: 0.25em;background-color: #f0f8ff;}#sk-container-id-2 input.sk-toggleable__control:checked~div.sk-toggleable__content {max-height: 200px;max-width: 100%;overflow: auto;}#sk-container-id-2 input.sk-toggleable__control:checked~label.sk-toggleable__label-arrow:before {content: \"▾\";}#sk-container-id-2 div.sk-estimator input.sk-toggleable__control:checked~label.sk-toggleable__label {background-color: #d4ebff;}#sk-container-id-2 div.sk-label input.sk-toggleable__control:checked~label.sk-toggleable__label {background-color: #d4ebff;}#sk-container-id-2 input.sk-hidden--visually {border: 0;clip: rect(1px 1px 1px 1px);clip: rect(1px, 1px, 1px, 1px);height: 1px;margin: -1px;overflow: hidden;padding: 0;position: absolute;width: 1px;}#sk-container-id-2 div.sk-estimator {font-family: monospace;background-color: #f0f8ff;border: 1px dotted black;border-radius: 0.25em;box-sizing: border-box;margin-bottom: 0.5em;}#sk-container-id-2 div.sk-estimator:hover {background-color: #d4ebff;}#sk-container-id-2 div.sk-parallel-item::after {content: \"\";width: 100%;border-bottom: 1px solid gray;flex-grow: 1;}#sk-container-id-2 div.sk-label:hover label.sk-toggleable__label {background-color: #d4ebff;}#sk-container-id-2 div.sk-serial::before {content: \"\";position: absolute;border-left: 1px solid gray;box-sizing: border-box;top: 0;bottom: 0;left: 50%;z-index: 0;}#sk-container-id-2 div.sk-serial {display: flex;flex-direction: column;align-items: center;background-color: white;padding-right: 0.2em;padding-left: 0.2em;position: relative;}#sk-container-id-2 div.sk-item {position: relative;z-index: 1;}#sk-container-id-2 div.sk-parallel {display: flex;align-items: stretch;justify-content: center;background-color: white;position: relative;}#sk-container-id-2 div.sk-item::before, #sk-container-id-2 div.sk-parallel-item::before {content: \"\";position: absolute;border-left: 1px solid gray;box-sizing: border-box;top: 0;bottom: 0;left: 50%;z-index: -1;}#sk-container-id-2 div.sk-parallel-item {display: flex;flex-direction: column;z-index: 1;position: relative;background-color: white;}#sk-container-id-2 div.sk-parallel-item:first-child::after {align-self: flex-end;width: 50%;}#sk-container-id-2 div.sk-parallel-item:last-child::after {align-self: flex-start;width: 50%;}#sk-container-id-2 div.sk-parallel-item:only-child::after {width: 0;}#sk-container-id-2 div.sk-dashed-wrapped {border: 1px dashed gray;margin: 0 0.4em 0.5em 0.4em;box-sizing: border-box;padding-bottom: 0.4em;background-color: white;}#sk-container-id-2 div.sk-label label {font-family: monospace;font-weight: bold;display: inline-block;line-height: 1.2em;}#sk-container-id-2 div.sk-label-container {text-align: center;}#sk-container-id-2 div.sk-container {/* jupyter's `normalize.less` sets `[hidden] { display: none; }` but bootstrap.min.css set `[hidden] { display: none !important; }` so we also need the `!important` here to be able to override the default hidden behavior on the sphinx rendered scikit-learn.org. See: https://github.com/scikit-learn/scikit-learn/issues/21755 */display: inline-block !important;position: relative;}#sk-container-id-2 div.sk-text-repr-fallback {display: none;}</style><div id=\"sk-container-id-2\" class=\"sk-top-container\"><div class=\"sk-text-repr-fallback\"><pre>SVC(C=0.5644444444444445, probability=True)</pre><b>In a Jupyter environment, please rerun this cell to show the HTML representation or trust the notebook. <br />On GitHub, the HTML representation is unable to render, please try loading this page with nbviewer.org.</b></div><div class=\"sk-container\" hidden><div class=\"sk-item\"><div class=\"sk-estimator sk-toggleable\"><input class=\"sk-toggleable__control sk-hidden--visually\" id=\"sk-estimator-id-2\" type=\"checkbox\" checked><label for=\"sk-estimator-id-2\" class=\"sk-toggleable__label sk-toggleable__label-arrow\">SVC</label><div class=\"sk-toggleable__content\"><pre>SVC(C=0.5644444444444445, probability=True)</pre></div></div></div></div></div>"
      ],
      "text/plain": [
       "SVC(C=0.5644444444444445, probability=True)"
      ]
     },
     "execution_count": 10,
     "metadata": {},
     "output_type": "execute_result"
    }
   ],
   "source": [
    "Svm_gs_cv.best_estimator_"
   ]
  },
  {
   "cell_type": "code",
   "execution_count": 11,
   "id": "6c5d8276-8d9d-416c-8600-23efe2e5b731",
   "metadata": {
    "execution": {
     "iopub.execute_input": "2025-06-14T17:42:37.559023Z",
     "iopub.status.busy": "2025-06-14T17:42:37.558808Z",
     "iopub.status.idle": "2025-06-14T17:42:37.644534Z",
     "shell.execute_reply": "2025-06-14T17:42:37.644112Z",
     "shell.execute_reply.started": "2025-06-14T17:42:37.559008Z"
    }
   },
   "outputs": [],
   "source": [
    "# Empty dataframe to store the results\n",
    "Results_trainset = pd.DataFrame(columns = ['train_accuracy','train_auc', 'fit_time', 'score_time'])"
   ]
  },
  {
   "cell_type": "code",
   "execution_count": 12,
   "id": "345e1819-19d2-4a0b-a6d0-c9e51eae0acf",
   "metadata": {
    "execution": {
     "iopub.execute_input": "2025-06-14T17:42:37.645596Z",
     "iopub.status.busy": "2025-06-14T17:42:37.645416Z",
     "iopub.status.idle": "2025-06-14T17:42:37.659248Z",
     "shell.execute_reply": "2025-06-14T17:42:37.658768Z",
     "shell.execute_reply.started": "2025-06-14T17:42:37.645581Z"
    }
   },
   "outputs": [],
   "source": [
    "def record_results(cv_model, model_name):\n",
    "    \"\"\"\n",
    "    cv_model = cross_validate(be, X_train, y_train, \n",
    "                              cv = 3, scoring = ('accuracy', 'roc_auc'))\n",
    "    \"\"\"\n",
    "    accuracy_score = np.mean(cv_model['test_accuracy'])\n",
    "    auc_score = np.mean(cv_model['test_roc_auc'])\n",
    "    fit_time = np.mean(cv_model['fit_time'])\n",
    "    score_time = np.mean(cv_model['score_time'])\n",
    "    \n",
    "    Results_trainset.loc[model_name] = pd.Series({'train_accuracy': accuracy_score, \n",
    "                                                   'train_auc': auc_score,\n",
    "                                                   'fit_time': fit_time, \n",
    "                                                   'score_time': score_time})\n",
    "\n",
    "\n",
    "record_results(cv_log_model, 'Logit')\n",
    "record_results(cv_svm_model, 'SVM')"
   ]
  },
  {
   "cell_type": "code",
   "execution_count": 13,
   "id": "c23cc911-9ae8-4b82-9701-ffb32b89af3d",
   "metadata": {
    "execution": {
     "iopub.execute_input": "2025-06-14T17:42:37.660366Z",
     "iopub.status.busy": "2025-06-14T17:42:37.660028Z",
     "iopub.status.idle": "2025-06-14T17:42:37.679581Z",
     "shell.execute_reply": "2025-06-14T17:42:37.679079Z",
     "shell.execute_reply.started": "2025-06-14T17:42:37.660347Z"
    }
   },
   "outputs": [
    {
     "data": {
      "text/markdown": [
       "##### Evaluation\n",
       "For both the logistic regression and the support vector machine the training results are somewhat similar to the training result in iteration 2. \n",
       "What is otherwise noticeable is how much more time it takes to fit the logistic regression compared to the support vector machine.\n"
      ],
      "text/plain": [
       "<IPython.core.display.Markdown object>"
      ]
     },
     "metadata": {},
     "output_type": "display_data"
    }
   ],
   "source": [
    "%%markdown\n",
    "##### Evaluation\n",
    "For both the logistic regression and the support vector machine the training results are somewhat similar to the training result in iteration 2. \n",
    "What is otherwise noticeable is how much more time it takes to fit the logistic regression compared to the support vector machine."
   ]
  },
  {
   "cell_type": "code",
   "execution_count": 14,
   "id": "4607f044-6113-4236-a9f8-84cb06a8719f",
   "metadata": {
    "execution": {
     "iopub.execute_input": "2025-06-14T17:42:37.680392Z",
     "iopub.status.busy": "2025-06-14T17:42:37.680188Z",
     "iopub.status.idle": "2025-06-14T17:42:37.744913Z",
     "shell.execute_reply": "2025-06-14T17:42:37.744436Z",
     "shell.execute_reply.started": "2025-06-14T17:42:37.680378Z"
    }
   },
   "outputs": [
    {
     "data": {
      "text/html": [
       "<div>\n",
       "<style scoped>\n",
       "    .dataframe tbody tr th:only-of-type {\n",
       "        vertical-align: middle;\n",
       "    }\n",
       "\n",
       "    .dataframe tbody tr th {\n",
       "        vertical-align: top;\n",
       "    }\n",
       "\n",
       "    .dataframe thead th {\n",
       "        text-align: right;\n",
       "    }\n",
       "</style>\n",
       "<table border=\"1\" class=\"dataframe\">\n",
       "  <thead>\n",
       "    <tr style=\"text-align: right;\">\n",
       "      <th></th>\n",
       "      <th>train_accuracy</th>\n",
       "      <th>train_auc</th>\n",
       "      <th>fit_time</th>\n",
       "      <th>score_time</th>\n",
       "    </tr>\n",
       "  </thead>\n",
       "  <tbody>\n",
       "    <tr>\n",
       "      <th>Logit</th>\n",
       "      <td>0.671969</td>\n",
       "      <td>0.744437</td>\n",
       "      <td>0.132872</td>\n",
       "      <td>0.098957</td>\n",
       "    </tr>\n",
       "    <tr>\n",
       "      <th>SVM</th>\n",
       "      <td>0.659993</td>\n",
       "      <td>0.732066</td>\n",
       "      <td>0.192812</td>\n",
       "      <td>0.067307</td>\n",
       "    </tr>\n",
       "  </tbody>\n",
       "</table>\n",
       "</div>"
      ],
      "text/plain": [
       "       train_accuracy  train_auc  fit_time  score_time\n",
       "Logit        0.671969   0.744437  0.132872    0.098957\n",
       "SVM          0.659993   0.732066  0.192812    0.067307"
      ]
     },
     "execution_count": 14,
     "metadata": {},
     "output_type": "execute_result"
    }
   ],
   "source": [
    "Results_trainset"
   ]
  },
  {
   "cell_type": "code",
   "execution_count": 15,
   "id": "4bef9082-afe6-4cbb-b736-cdfcd7d99dc1",
   "metadata": {
    "execution": {
     "iopub.execute_input": "2025-06-09T09:46:33.569545Z",
     "iopub.status.busy": "2025-06-09T09:46:33.569337Z",
     "iopub.status.idle": "2025-06-09T09:46:33.596094Z",
     "shell.execute_reply": "2025-06-09T09:46:33.595691Z",
     "shell.execute_reply.started": "2025-06-09T09:46:33.569530Z"
    }
   },
   "outputs": [],
   "source": [
    "Results_trainset.to_csv('Train_results_att3.csv', index= False)"
   ]
  },
  {
   "cell_type": "code",
   "execution_count": 15,
   "id": "e230948a-5a15-4186-b076-331485de216c",
   "metadata": {
    "execution": {
     "iopub.execute_input": "2025-06-14T17:42:52.048464Z",
     "iopub.status.busy": "2025-06-14T17:42:52.048175Z",
     "iopub.status.idle": "2025-06-14T17:42:52.053217Z",
     "shell.execute_reply": "2025-06-14T17:42:52.052636Z",
     "shell.execute_reply.started": "2025-06-14T17:42:52.048444Z"
    }
   },
   "outputs": [
    {
     "data": {
      "text/markdown": [
       "### Test results\n",
       "#####  Accuracy\n",
       "Both the accuracy of the logistic regression and the SVM show improvements compared to iteration 2. \n",
       "The accuracy for this iteration is 0.5477. For iteration 2 the accuracy was 0.5228.<br>\n",
       "For the SVM, the accuracy is 0.5892. This is also an improvement from iteration 2, where it was 0.5519. \n",
       "Like it was the case with iteration 2 compared to iteration 1, the absolute value of the accuracy is not great \n",
       "but the improvement compared to the former version(s) is promising.<br>\n",
       "What's also noticeable is that both models seem more accurate in predicting that vacancies belong to the 'Mid-Senior level' \n",
       "than predicting vacancies belong to the 'Junior level'. For implementing eventual further improvements this would be a point of attention. \n",
       "    \n",
       "#####  AUC\n",
       "Like the accuracy, the AUC for these versions of the models is also at its highest levels.<br>\n",
       "The AUC for the logistic regression is 0.58, an increase from the 0.5651 of the second version. For the support vector machine, \n",
       "the AUC is above 0.6 for the first time (0.6152). In the second iteration the AUC of the SVM was 0.5886.\n",
       "Once again, in the AUC context these are not great scores but I think the gradual improvements from the models of the first and second iterations are promising. \n"
      ],
      "text/plain": [
       "<IPython.core.display.Markdown object>"
      ]
     },
     "metadata": {},
     "output_type": "display_data"
    }
   ],
   "source": [
    "%%markdown\n",
    "### Test results\n",
    "#####  Accuracy\n",
    "Both the accuracy of the logistic regression and the SVM show improvements compared to iteration 2. \n",
    "The accuracy for this iteration is 0.5477. For iteration 2 the accuracy was 0.5228.<br>\n",
    "For the SVM, the accuracy is 0.5892. This is also an improvement from iteration 2, where it was 0.5519. \n",
    "Like it was the case with iteration 2 compared to iteration 1, the absolute value of the accuracy is not great \n",
    "but the improvement compared to the former version(s) is promising.<br>\n",
    "What's also noticeable is that both models seem more accurate in predicting that vacancies belong to the 'Mid-Senior level' \n",
    "than predicting vacancies belong to the 'Junior level'. For implementing eventual further improvements this would be a point of attention. \n",
    "    \n",
    "#####  AUC\n",
    "Like the accuracy, the AUC for these versions of the models is also at its highest levels.<br>\n",
    "The AUC for the logistic regression is 0.58, an increase from the 0.5651 of the second version. For the support vector machine, \n",
    "the AUC is above 0.6 for the first time (0.6152). In the second iteration the AUC of the SVM was 0.5886.\n",
    "Once again, in the AUC context these are not great scores but I think the gradual improvements from the models of the first and second iterations are promising. "
   ]
  },
  {
   "cell_type": "code",
   "execution_count": 20,
   "id": "b176f6bb-2296-4ebb-8578-e387145fe3bb",
   "metadata": {
    "execution": {
     "iopub.execute_input": "2025-06-14T17:44:56.761623Z",
     "iopub.status.busy": "2025-06-14T17:44:56.761323Z",
     "iopub.status.idle": "2025-06-14T17:44:56.766375Z",
     "shell.execute_reply": "2025-06-14T17:44:56.765739Z",
     "shell.execute_reply.started": "2025-06-14T17:44:56.761604Z"
    }
   },
   "outputs": [],
   "source": [
    "def roc_plot(prob, model):\n",
    "    # Compute ROC curve and AUC\n",
    "    fpr, tpr, _ = roc_curve(recode_y_test, prob)\n",
    "    roc_auc = auc(fpr, tpr)\n",
    "    \n",
    "    # Plot ROC curve\n",
    "    plt.figure()\n",
    "    plt.plot(fpr, tpr, color='darkorange', lw=2, label=f'ROC curve (area = {roc_auc:.2f})')\n",
    "    plt.plot([0, 1], [0, 1], color='navy', lw=2, linestyle='--')\n",
    "    plt.xlim([0.0, 1.0])\n",
    "    plt.ylim([0.0, 1.05])\n",
    "    plt.xlabel('False Positive Rate')\n",
    "    plt.ylabel('True Positive Rate')\n",
    "    plt.title('Receiver Operating Characteristic (ROC) Curve: {}'.format(model))\n",
    "    plt.legend(loc=\"lower right\")\n",
    "    plt.show()\n",
    "\n",
    "    print(\"The AUC score is {}\".format(round(roc_auc,4)))"
   ]
  },
  {
   "cell_type": "code",
   "execution_count": 16,
   "id": "ddb33224-e8cc-4058-8b82-771c2281c4e6",
   "metadata": {
    "execution": {
     "iopub.execute_input": "2025-06-14T17:43:50.753411Z",
     "iopub.status.busy": "2025-06-14T17:43:50.753102Z",
     "iopub.status.idle": "2025-06-14T17:44:13.851882Z",
     "shell.execute_reply": "2025-06-14T17:44:13.851332Z",
     "shell.execute_reply.started": "2025-06-14T17:43:50.753391Z"
    }
   },
   "outputs": [
    {
     "data": {
      "text/plain": [
       "array([[ 2.10485235e-01, -1.76139646e-01, -5.38893654e-02, ...,\n",
       "         2.34274963e-02, -1.13770101e-02,  5.92086150e-02],\n",
       "       [ 2.29916727e-01, -9.21062661e-02,  2.66923781e-05, ...,\n",
       "        -1.43580179e-02, -6.76073820e-02, -1.70583994e-02],\n",
       "       [ 1.53425276e-01, -9.97801799e-02, -2.63265850e-02, ...,\n",
       "         5.86152033e-02,  8.95311684e-04,  1.01779145e-01],\n",
       "       ...,\n",
       "       [ 2.10970185e-01, -1.18293342e-01, -1.93582724e-02, ...,\n",
       "        -7.83749812e-02,  7.51499208e-03, -1.28654287e-04],\n",
       "       [ 1.20211957e-01, -1.03783861e-01, -3.96497491e-02, ...,\n",
       "         9.32905014e-02,  4.39154668e-02, -4.91803377e-02],\n",
       "       [ 1.71137402e-01, -8.87339077e-02, -2.38302715e-02, ...,\n",
       "        -1.73242712e-02,  4.05350435e-02,  2.56963694e-02]])"
      ]
     },
     "execution_count": 16,
     "metadata": {},
     "output_type": "execute_result"
    }
   ],
   "source": [
    "X_test_svd = svd.fit_transform(X_test)\n",
    "X_test_svd"
   ]
  },
  {
   "cell_type": "code",
   "execution_count": 17,
   "id": "9dad9399-8f34-4cbe-83b0-79834add44bc",
   "metadata": {
    "execution": {
     "iopub.execute_input": "2025-06-14T17:44:13.853154Z",
     "iopub.status.busy": "2025-06-14T17:44:13.852913Z",
     "iopub.status.idle": "2025-06-14T17:44:13.945486Z",
     "shell.execute_reply": "2025-06-14T17:44:13.944807Z",
     "shell.execute_reply.started": "2025-06-14T17:44:13.853136Z"
    }
   },
   "outputs": [],
   "source": [
    "recode_map = {'Mid-Senior level': 1, 'Junior level': 0}\n",
    "recode_y_test = pd.Series(y_test).replace(recode_map).astype(int)"
   ]
  },
  {
   "cell_type": "code",
   "execution_count": 18,
   "id": "9c23058d-d418-4a96-9b02-9a3ff6a4c9b3",
   "metadata": {
    "execution": {
     "iopub.execute_input": "2025-06-14T17:44:40.895818Z",
     "iopub.status.busy": "2025-06-14T17:44:40.895524Z",
     "iopub.status.idle": "2025-06-14T17:44:41.848153Z",
     "shell.execute_reply": "2025-06-14T17:44:41.847629Z",
     "shell.execute_reply.started": "2025-06-14T17:44:40.895801Z"
    }
   },
   "outputs": [
    {
     "data": {
      "image/png": "[encoded data removed]",
      "text/plain": [
       "<Figure size 640x480 with 2 Axes>"
      ]
     },
     "metadata": {},
     "output_type": "display_data"
    },
    {
     "name": "stdout",
     "output_type": "stream",
     "text": [
      "The accuracy score is 0.5477\n"
     ]
    }
   ],
   "source": [
    "logit_predictions = Log_gs_cv.best_estimator_.predict(X_test_svd)\n",
    "logit_accuracy = accuracy_score(y_test, logit_predictions)\n",
    "\n",
    "cm = confusion_matrix(y_test, logit_predictions, labels= Log_gs_cv.classes_)\n",
    "disp = ConfusionMatrixDisplay(confusion_matrix=cm,\n",
    "                              display_labels=Log_gs_cv.classes_)\n",
    "disp.plot()\n",
    "plt.title('Confusion matrix logistic regression (Iteration 3)')\n",
    "plt.show()\n",
    "print(\"The accuracy score is {}\".format(round(logit_accuracy,4)))"
   ]
  },
  {
   "cell_type": "code",
   "execution_count": 21,
   "id": "956b303d-59fa-4622-9886-23d019dfce46",
   "metadata": {
    "execution": {
     "iopub.execute_input": "2025-06-14T17:45:00.723042Z",
     "iopub.status.busy": "2025-06-14T17:45:00.722396Z",
     "iopub.status.idle": "2025-06-14T17:45:01.750201Z",
     "shell.execute_reply": "2025-06-14T17:45:01.749310Z",
     "shell.execute_reply.started": "2025-06-14T17:45:00.723011Z"
    }
   },
   "outputs": [
    {
     "data": {
      "image/png": "[encoded data removed]",
      "text/plain": [
       "<Figure size 640x480 with 1 Axes>"
      ]
     },
     "metadata": {},
     "output_type": "display_data"
    },
    {
     "name": "stdout",
     "output_type": "stream",
     "text": [
      "The AUC score is 0.5799\n"
     ]
    }
   ],
   "source": [
    "logit_predictions_proba = Log_gs_cv.best_estimator_.predict_proba(X_test_svd)\n",
    "roc_plot(logit_predictions_proba[:, 1],'logistic regression')"
   ]
  },
  {
   "cell_type": "code",
   "execution_count": 22,
   "id": "410307fe-86c7-4270-9083-913d3cc556d0",
   "metadata": {
    "execution": {
     "iopub.execute_input": "2025-06-14T17:45:20.576785Z",
     "iopub.status.busy": "2025-06-14T17:45:20.576480Z",
     "iopub.status.idle": "2025-06-14T17:45:21.344792Z",
     "shell.execute_reply": "2025-06-14T17:45:21.344189Z",
     "shell.execute_reply.started": "2025-06-14T17:45:20.576766Z"
    }
   },
   "outputs": [
    {
     "data": {
      "image/png": "[encoded data removed]",
      "text/plain": [
       "<Figure size 640x480 with 2 Axes>"
      ]
     },
     "metadata": {},
     "output_type": "display_data"
    },
    {
     "name": "stdout",
     "output_type": "stream",
     "text": [
      "The accuracy score is 0.5892\n"
     ]
    }
   ],
   "source": [
    "svm_predictions = Svm_gs_cv.best_estimator_.predict(X_test_svd)\n",
    "svm_accuracy = accuracy_score(y_test, svm_predictions)\n",
    "\n",
    "cm = confusion_matrix(y_test, svm_predictions, labels= Svm_gs_cv.classes_)\n",
    "disp = ConfusionMatrixDisplay(confusion_matrix=cm,\n",
    "                              display_labels=Svm_gs_cv.classes_)\n",
    "disp.plot()\n",
    "plt.title('Confusion matrix support vector machine (Iteration 3)')\n",
    "plt.show()\n",
    "\n",
    "print(\"The accuracy score is {}\".format(round(svm_accuracy,4)))"
   ]
  },
  {
   "cell_type": "code",
   "execution_count": 23,
   "id": "a3e27b8d-469e-4fa2-9dde-e215caf53b6c",
   "metadata": {
    "execution": {
     "iopub.execute_input": "2025-06-14T17:45:34.688939Z",
     "iopub.status.busy": "2025-06-14T17:45:34.688630Z",
     "iopub.status.idle": "2025-06-14T17:45:35.356740Z",
     "shell.execute_reply": "2025-06-14T17:45:35.356175Z",
     "shell.execute_reply.started": "2025-06-14T17:45:34.688917Z"
    }
   },
   "outputs": [
    {
     "data": {
      "image/png": "[encoded data removed]",
      "text/plain": [
       "<Figure size 640x480 with 1 Axes>"
      ]
     },
     "metadata": {},
     "output_type": "display_data"
    },
    {
     "name": "stdout",
     "output_type": "stream",
     "text": [
      "The AUC score is 0.615\n"
     ]
    }
   ],
   "source": [
    "Svm_predictions_proba = Svm_gs_cv.best_estimator_.predict_proba(X_test_svd)\n",
    "roc_plot(Svm_predictions_proba[:, 1],'support vector machine')"
   ]
  }
 ],
 "metadata": {
  "kernelspec": {
   "display_name": "anaconda-panel-2023.05-py310",
   "language": "python",
   "name": "conda-env-anaconda-panel-2023.05-py310-py"
  },
  "language_info": {
   "codemirror_mode": {
    "name": "ipython",
    "version": 3
   },
   "file_extension": ".py",
   "mimetype": "text/x-python",
   "name": "python",
   "nbconvert_exporter": "python",
   "pygments_lexer": "ipython3",
   "version": "3.11.5"
  }
 },
 "nbformat": 4,
 "nbformat_minor": 5
}

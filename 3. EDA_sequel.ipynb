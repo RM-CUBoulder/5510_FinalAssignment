{
 "cells": [
  {
   "cell_type": "code",
   "execution_count": 1,
   "id": "5e93f0d3-91bd-4358-b788-25a2d6e5d1a4",
   "metadata": {
    "execution": {
     "iopub.execute_input": "2025-06-14T17:17:49.614202Z",
     "iopub.status.busy": "2025-06-14T17:17:49.613913Z",
     "iopub.status.idle": "2025-06-14T17:17:55.054014Z",
     "shell.execute_reply": "2025-06-14T17:17:55.053417Z",
     "shell.execute_reply.started": "2025-06-14T17:17:49.614182Z"
    }
   },
   "outputs": [],
   "source": [
    "# Import modules \n",
    "import pandas as pd\n",
    "import numpy as np\n",
    "import matplotlib.pyplot as plt\n",
    "import seaborn as sns\n",
    "import re\n",
    "import unicodedata\n",
    "import nltk\n",
    "from nltk.corpus import stopwords\n",
    "from nltk.util import ngrams\n",
    "from nltk.tokenize import word_tokenize\n",
    "#nltk.download('stopwords')\n",
    "#nltk.download('punkt')"
   ]
  },
  {
   "cell_type": "code",
   "execution_count": 2,
   "id": "2461e0f4-d09f-4ad4-8dc9-04342274bcff",
   "metadata": {
    "execution": {
     "iopub.execute_input": "2025-06-14T17:17:55.055625Z",
     "iopub.status.busy": "2025-06-14T17:17:55.055269Z",
     "iopub.status.idle": "2025-06-14T17:17:55.061956Z",
     "shell.execute_reply": "2025-06-14T17:17:55.061329Z",
     "shell.execute_reply.started": "2025-06-14T17:17:55.055604Z"
    }
   },
   "outputs": [
    {
     "data": {
      "text/markdown": [
       "## Data wrangling \n",
       "The below part of data wrangling is explained extensively in the 'EDA' notebook.\n"
      ],
      "text/plain": [
       "<IPython.core.display.Markdown object>"
      ]
     },
     "metadata": {},
     "output_type": "display_data"
    }
   ],
   "source": [
    "%%markdown \n",
    "## Data wrangling \n",
    "The below part of data wrangling is explained extensively in the 'EDA' notebook."
   ]
  },
  {
   "cell_type": "code",
   "execution_count": 3,
   "id": "aeab9427-e25f-4969-8ec2-c5a516da6efc",
   "metadata": {
    "execution": {
     "iopub.execute_input": "2025-06-14T17:17:55.063176Z",
     "iopub.status.busy": "2025-06-14T17:17:55.062973Z",
     "iopub.status.idle": "2025-06-14T17:17:55.658200Z",
     "shell.execute_reply": "2025-06-14T17:17:55.657390Z",
     "shell.execute_reply.started": "2025-06-14T17:17:55.063155Z"
    },
    "scrolled": true
   },
   "outputs": [
    {
     "data": {
      "text/html": [
       "<div>\n",
       "<style scoped>\n",
       "    .dataframe tbody tr th:only-of-type {\n",
       "        vertical-align: middle;\n",
       "    }\n",
       "\n",
       "    .dataframe tbody tr th {\n",
       "        vertical-align: top;\n",
       "    }\n",
       "\n",
       "    .dataframe thead th {\n",
       "        text-align: right;\n",
       "    }\n",
       "</style>\n",
       "<table border=\"1\" class=\"dataframe\">\n",
       "  <thead>\n",
       "    <tr style=\"text-align: right;\">\n",
       "      <th></th>\n",
       "      <th>ID</th>\n",
       "      <th>Cali_ind</th>\n",
       "      <th>TikTok_ind</th>\n",
       "      <th>job_description_text</th>\n",
       "      <th>seniority_level</th>\n",
       "    </tr>\n",
       "  </thead>\n",
       "  <tbody>\n",
       "    <tr>\n",
       "      <th>1</th>\n",
       "      <td>1</td>\n",
       "      <td>1</td>\n",
       "      <td>0</td>\n",
       "      <td>Company DescriptionThe Ikigai platform unlocks...</td>\n",
       "      <td>Mid-Senior level</td>\n",
       "    </tr>\n",
       "    <tr>\n",
       "      <th>4</th>\n",
       "      <td>4</td>\n",
       "      <td>0</td>\n",
       "      <td>0</td>\n",
       "      <td>Job Title: Machine Learning EngineerLocation: ...</td>\n",
       "      <td>Mid-Senior level</td>\n",
       "    </tr>\n",
       "    <tr>\n",
       "      <th>21</th>\n",
       "      <td>21</td>\n",
       "      <td>0</td>\n",
       "      <td>0</td>\n",
       "      <td>About UsNational Grid is hiring a Senior Data ...</td>\n",
       "      <td>Mid-Senior level</td>\n",
       "    </tr>\n",
       "    <tr>\n",
       "      <th>22</th>\n",
       "      <td>22</td>\n",
       "      <td>0</td>\n",
       "      <td>0</td>\n",
       "      <td>About UsNational Grid is hiring a Senior Data ...</td>\n",
       "      <td>Mid-Senior level</td>\n",
       "    </tr>\n",
       "    <tr>\n",
       "      <th>23</th>\n",
       "      <td>23</td>\n",
       "      <td>0</td>\n",
       "      <td>0</td>\n",
       "      <td>About UsNational Grid is hiring a Senior Data ...</td>\n",
       "      <td>Mid-Senior level</td>\n",
       "    </tr>\n",
       "    <tr>\n",
       "      <th>...</th>\n",
       "      <td>...</td>\n",
       "      <td>...</td>\n",
       "      <td>...</td>\n",
       "      <td>...</td>\n",
       "      <td>...</td>\n",
       "    </tr>\n",
       "    <tr>\n",
       "      <th>965</th>\n",
       "      <td>965</td>\n",
       "      <td>0</td>\n",
       "      <td>0</td>\n",
       "      <td>What is Aviture?Aviture is a full-service tech...</td>\n",
       "      <td>Junior level</td>\n",
       "    </tr>\n",
       "    <tr>\n",
       "      <th>976</th>\n",
       "      <td>976</td>\n",
       "      <td>1</td>\n",
       "      <td>0</td>\n",
       "      <td>Location: US RemoteJob SummaryWe are seeking a...</td>\n",
       "      <td>Junior level</td>\n",
       "    </tr>\n",
       "    <tr>\n",
       "      <th>980</th>\n",
       "      <td>980</td>\n",
       "      <td>1</td>\n",
       "      <td>1</td>\n",
       "      <td>ResponsibilitiesThe Business Risk Integrated C...</td>\n",
       "      <td>Junior level</td>\n",
       "    </tr>\n",
       "    <tr>\n",
       "      <th>981</th>\n",
       "      <td>981</td>\n",
       "      <td>1</td>\n",
       "      <td>0</td>\n",
       "      <td>Location: US RemoteJob SummaryWe are seeking a...</td>\n",
       "      <td>Junior level</td>\n",
       "    </tr>\n",
       "    <tr>\n",
       "      <th>982</th>\n",
       "      <td>982</td>\n",
       "      <td>1</td>\n",
       "      <td>0</td>\n",
       "      <td>Location: US RemoteJob SummaryWe are seeking a...</td>\n",
       "      <td>Junior level</td>\n",
       "    </tr>\n",
       "  </tbody>\n",
       "</table>\n",
       "<p>741 rows × 5 columns</p>\n",
       "</div>"
      ],
      "text/plain": [
       "      ID Cali_ind TikTok_ind  \\\n",
       "1      1        1          0   \n",
       "4      4        0          0   \n",
       "21    21        0          0   \n",
       "22    22        0          0   \n",
       "23    23        0          0   \n",
       "..   ...      ...        ...   \n",
       "965  965        0          0   \n",
       "976  976        1          0   \n",
       "980  980        1          1   \n",
       "981  981        1          0   \n",
       "982  982        1          0   \n",
       "\n",
       "                                  job_description_text   seniority_level  \n",
       "1    Company DescriptionThe Ikigai platform unlocks...  Mid-Senior level  \n",
       "4    Job Title: Machine Learning EngineerLocation: ...  Mid-Senior level  \n",
       "21   About UsNational Grid is hiring a Senior Data ...  Mid-Senior level  \n",
       "22   About UsNational Grid is hiring a Senior Data ...  Mid-Senior level  \n",
       "23   About UsNational Grid is hiring a Senior Data ...  Mid-Senior level  \n",
       "..                                                 ...               ...  \n",
       "965  What is Aviture?Aviture is a full-service tech...      Junior level  \n",
       "976  Location: US RemoteJob SummaryWe are seeking a...      Junior level  \n",
       "980  ResponsibilitiesThe Business Risk Integrated C...      Junior level  \n",
       "981  Location: US RemoteJob SummaryWe are seeking a...      Junior level  \n",
       "982  Location: US RemoteJob SummaryWe are seeking a...      Junior level  \n",
       "\n",
       "[741 rows x 5 columns]"
      ]
     },
     "execution_count": 3,
     "metadata": {},
     "output_type": "execute_result"
    }
   ],
   "source": [
    "# Read data set\n",
    "df = pd.read_csv('Job_Postings_US new.csv')\n",
    "\n",
    "# Only select the 'Mid-Senior level', 'Entry level' and 'Internship' categories\n",
    "df_new = pd.concat( [df[df.seniority_level == 'Mid-Senior level'], df[df.seniority_level == 'Entry level'], df[df.seniority_level == 'Internship']])\n",
    "\n",
    "# Recode 'Entry level' and 'Internship' to 'Junior level'\n",
    "df_new.replace({'seniority_level': {'Entry level': 'Junior level', 'Internship': 'Junior level'}}, inplace= True)\n",
    "\n",
    "# Function to add feature TikTok_ind\n",
    "def classify_company(row):\n",
    "    if row['company_name'] == 'TikTok':\n",
    "        return '1'\n",
    "    else:\n",
    "        return '0'\n",
    "        \n",
    "df_new['TikTok_ind'] = df_new.apply(classify_company, axis=1)\n",
    "\n",
    "# Function to add feature Cali_ind\n",
    "def classify_address_region(row):\n",
    "    if row['company_address_region'] == 'California':\n",
    "        return '1'\n",
    "    elif row['company_address_region'] == 'CA':\n",
    "        return '1'\n",
    "    else:\n",
    "        return '0'\n",
    "\n",
    "df_new['Cali_ind'] = df_new.apply(classify_address_region, axis=1)\n",
    "\n",
    "df_expanded = df_new.iloc[:,[0,1,2,3,10,4,9,5,6,7,8]]\n",
    "\n",
    "# Model set before TF-IDF vectorizing\n",
    "pre_model = df_expanded.loc[:,['ID', 'Cali_ind', 'TikTok_ind', 'job_description_text', 'seniority_level']]\n",
    "pre_model\n"
   ]
  },
  {
   "cell_type": "code",
   "execution_count": 4,
   "id": "ff3f6670-7667-41af-917e-58a10c92e007",
   "metadata": {
    "execution": {
     "iopub.execute_input": "2025-06-14T17:17:55.659648Z",
     "iopub.status.busy": "2025-06-14T17:17:55.659100Z",
     "iopub.status.idle": "2025-06-14T17:17:55.666111Z",
     "shell.execute_reply": "2025-06-14T17:17:55.665362Z",
     "shell.execute_reply.started": "2025-06-14T17:17:55.659616Z"
    }
   },
   "outputs": [
    {
     "data": {
      "text/markdown": [
       "## Bigram and unigram analysis and removal\n",
       "The 'EDA' notebook contains plots of the most occuring bigrams across both categories. It showed some common terms regardless of the label, \n",
       "think of 'machine learning', 'computer science' and 'data science'. Because the results of the first iteration of the model were no better than guessing \n",
       "I decide to add an additional step to the data preparation part: removal of bigrams and unigrams that frequently occur in both categories.<br>\n",
       "\n",
       "To remove bigrams and unigrams:\n",
       "- They had to be within 15% of each other. For instance, the bigram 'machine learning' occurred 1.304 times in junior level vacancies \n",
       "and 1.405 times in mid-senior level vacancies. In other words a difference of 7.2%. Thus I remove 'machine learning'.\n",
       "- A bigram had to have a frequency of at least 25 in the mid-senior level category (and consequently of at least 20 in the junior level \n",
       "category because of the 15% difference). \n",
       "\n",
       "This means the removal of 63 bigrams and 325 unigrams.\n"
      ],
      "text/plain": [
       "<IPython.core.display.Markdown object>"
      ]
     },
     "metadata": {},
     "output_type": "display_data"
    }
   ],
   "source": [
    "%%markdown\n",
    "## Bigram and unigram analysis and removal\n",
    "The 'EDA' notebook contains plots of the most occuring bigrams across both categories. It showed some common terms regardless of the label, \n",
    "think of 'machine learning', 'computer science' and 'data science'. Because the results of the first iteration of the model were no better than guessing \n",
    "I decide to add an additional step to the data preparation part: removal of bigrams and unigrams that frequently occur in both categories.<br>\n",
    "\n",
    "To remove bigrams and unigrams:\n",
    "- They had to be within 15% of each other. For instance, the bigram 'machine learning' occurred 1.304 times in junior level vacancies \n",
    "and 1.405 times in mid-senior level vacancies. In other words a difference of 7.2%. Thus I remove 'machine learning'.\n",
    "- A bigram had to have a frequency of at least 25 in the mid-senior level category (and consequently of at least 20 in the junior level \n",
    "category because of the 15% difference). \n",
    "\n",
    "This means the removal of 63 bigrams and 325 unigrams.\n"
   ]
  },
  {
   "cell_type": "code",
   "execution_count": 5,
   "id": "f9f58771-e141-4197-96c3-2928fef4a1f7",
   "metadata": {
    "execution": {
     "iopub.execute_input": "2025-06-14T17:17:55.746507Z",
     "iopub.status.busy": "2025-06-14T17:17:55.745648Z",
     "iopub.status.idle": "2025-06-14T17:17:55.763630Z",
     "shell.execute_reply": "2025-06-14T17:17:55.762687Z",
     "shell.execute_reply.started": "2025-06-14T17:17:55.746472Z"
    }
   },
   "outputs": [],
   "source": [
    "# see 'sources' for article in which this function appears \n",
    "def basic_clean(text):\n",
    "  \"\"\"\n",
    "  A simple function to clean up the data. All the words that\n",
    "  are not designated as a stop word is then lemmatized after\n",
    "  encoding and basic regex parsing are performed.\n",
    "  \"\"\"\n",
    "  stops = set(stopwords.words('english'))\n",
    "  text = (unicodedata.normalize('NFKD', text)\n",
    "    .encode('ascii', 'ignore')\n",
    "    .decode('utf-8', 'ignore')\n",
    "    .lower())\n",
    "  words = re.sub(r'[^\\w\\s]', '', text).split()\n",
    "  return [word for word in words if word not in stops]"
   ]
  },
  {
   "cell_type": "code",
   "execution_count": 6,
   "id": "fc11e751-ee0d-47e9-9599-d71c905973f9",
   "metadata": {
    "execution": {
     "iopub.execute_input": "2025-06-14T17:17:55.765181Z",
     "iopub.status.busy": "2025-06-14T17:17:55.764656Z",
     "iopub.status.idle": "2025-06-14T17:17:56.552766Z",
     "shell.execute_reply": "2025-06-14T17:17:56.552167Z",
     "shell.execute_reply.started": "2025-06-14T17:17:55.765155Z"
    }
   },
   "outputs": [],
   "source": [
    "# All bigrams in 'Mid-Senior level' vacancies \n",
    "bigram_ms = pre_model[pre_model.seniority_level == 'Mid-Senior level']\n",
    "words_ms = basic_clean(''.join(str(bigram_ms['job_description_text'].tolist())))"
   ]
  },
  {
   "cell_type": "code",
   "execution_count": 7,
   "id": "8612f980-3d71-41f8-b152-266e4f154301",
   "metadata": {
    "execution": {
     "iopub.execute_input": "2025-06-14T17:17:56.553814Z",
     "iopub.status.busy": "2025-06-14T17:17:56.553570Z",
     "iopub.status.idle": "2025-06-14T17:17:57.348046Z",
     "shell.execute_reply": "2025-06-14T17:17:57.347546Z",
     "shell.execute_reply.started": "2025-06-14T17:17:56.553788Z"
    }
   },
   "outputs": [],
   "source": [
    "# All bigrams in 'Junior level' vacancies \n",
    "bigram_jr = pre_model[pre_model.seniority_level == 'Junior level']\n",
    "words_jr = basic_clean(''.join(str(bigram_jr['job_description_text'].tolist())))"
   ]
  },
  {
   "cell_type": "code",
   "execution_count": 8,
   "id": "f99039d6-c7d5-4878-aa7a-a3a2ab041c27",
   "metadata": {
    "execution": {
     "iopub.execute_input": "2025-06-14T17:17:57.349421Z",
     "iopub.status.busy": "2025-06-14T17:17:57.348956Z",
     "iopub.status.idle": "2025-06-14T17:17:57.352428Z",
     "shell.execute_reply": "2025-06-14T17:17:57.351849Z",
     "shell.execute_reply.started": "2025-06-14T17:17:57.349395Z"
    }
   },
   "outputs": [],
   "source": [
    "# function to compute percentage difference\n",
    "def percentage_change(col1,col2):\n",
    "    return abs((col2 - col1) / col1)"
   ]
  },
  {
   "cell_type": "code",
   "execution_count": 9,
   "id": "cca9e1f5-4306-4d85-be62-73a4d2f2107e",
   "metadata": {
    "execution": {
     "iopub.execute_input": "2025-06-14T17:17:57.353356Z",
     "iopub.status.busy": "2025-06-14T17:17:57.353124Z",
     "iopub.status.idle": "2025-06-14T17:17:58.646830Z",
     "shell.execute_reply": "2025-06-14T17:17:58.646152Z",
     "shell.execute_reply.started": "2025-06-14T17:17:57.353338Z"
    }
   },
   "outputs": [],
   "source": [
    "## Put all bigrams with their respective counts in a dataframe\n",
    "\n",
    "# junior level vacancies \n",
    "bigram_count_jr = pd.DataFrame(pd.Series(nltk.ngrams(words_jr, 2)).value_counts().to_frame())\n",
    "bigram_count_jr.reset_index(inplace = True)\n",
    "bigram_count_jr.rename(columns={\"count\": \"count_jr\",\"index\": \"bigram_jr\" }, inplace= True)\n",
    "\n",
    "# mid-senior level vacancies \n",
    "bigram_count_ms = pd.DataFrame(pd.Series(nltk.ngrams(words_ms, 2)).value_counts().to_frame())\n",
    "bigram_count_ms.reset_index(inplace = True)\n",
    "bigram_count_ms.rename(columns={\"count\": \"count_ms\",\"index\": \"bigram_ms\" }, inplace= True)\n",
    "\n",
    "# merge dataframes and compute the percentual difference\n",
    "bi_comp = pd.merge(bigram_count_jr, bigram_count_ms,  left_on = 'bigram_jr', right_on = 'bigram_ms')\n",
    "bi_comp['diff_'] = percentage_change(bi_comp['count_ms'], bi_comp['count_jr']) "
   ]
  },
  {
   "cell_type": "code",
   "execution_count": 10,
   "id": "392c8508-f5fe-45e8-b9d1-e70b54b16190",
   "metadata": {
    "execution": {
     "iopub.execute_input": "2025-06-14T17:17:58.648709Z",
     "iopub.status.busy": "2025-06-14T17:17:58.648245Z",
     "iopub.status.idle": "2025-06-14T17:17:58.653856Z",
     "shell.execute_reply": "2025-06-14T17:17:58.653044Z",
     "shell.execute_reply.started": "2025-06-14T17:17:58.648683Z"
    }
   },
   "outputs": [
    {
     "name": "stdout",
     "output_type": "stream",
     "text": [
      "Remove 63 bigrams\n"
     ]
    }
   ],
   "source": [
    "bigrams_to_remove = list(bi_comp[(bi_comp.diff_ <=0.15) & (bi_comp.count_ms >= 25)].iloc[:,0])\n",
    "print(\"Remove {} bigrams\".format(len(bigrams_to_remove)))"
   ]
  },
  {
   "cell_type": "code",
   "execution_count": 11,
   "id": "2ed24e70-c21d-4acb-aa9f-d27a2262c81d",
   "metadata": {
    "execution": {
     "iopub.execute_input": "2025-06-14T17:17:58.654854Z",
     "iopub.status.busy": "2025-06-14T17:17:58.654617Z",
     "iopub.status.idle": "2025-06-14T17:17:59.260510Z",
     "shell.execute_reply": "2025-06-14T17:17:59.259908Z",
     "shell.execute_reply.started": "2025-06-14T17:17:58.654831Z"
    }
   },
   "outputs": [],
   "source": [
    "## Put all unigrams with their respective counts in a dataframe\n",
    "\n",
    "# junior level vacancies\n",
    "unigram_count_jr = pd.DataFrame(pd.Series(nltk.ngrams(words_jr, 1)).value_counts().to_frame())\n",
    "unigram_count_jr.reset_index(inplace = True)\n",
    "unigram_count_jr.rename(columns={\"count\": \"count_jr\",\"index\": \"unigram_jr\" }, inplace= True)\n",
    "\n",
    "# mid-senior level vacancies \n",
    "unigram_count_ms = pd.DataFrame(pd.Series(nltk.ngrams(words_ms, 1)).value_counts().to_frame())\n",
    "unigram_count_ms.reset_index(inplace = True)\n",
    "unigram_count_ms.rename(columns={\"count\": \"count_ms\",\"index\": \"unigram_ms\" }, inplace= True)\n",
    "\n",
    "# merge dataframes and compute the percentual difference\n",
    "uni_comp = pd.merge(unigram_count_jr, unigram_count_ms,  left_on = 'unigram_jr', right_on = 'unigram_ms')\n",
    "uni_comp['diff_'] = percentage_change(uni_comp['count_ms'], uni_comp['count_jr']) "
   ]
  },
  {
   "cell_type": "code",
   "execution_count": 12,
   "id": "31c0b3a5-0be7-4760-88b5-86e0273f2e81",
   "metadata": {
    "execution": {
     "iopub.execute_input": "2025-06-14T17:17:59.261942Z",
     "iopub.status.busy": "2025-06-14T17:17:59.261382Z",
     "iopub.status.idle": "2025-06-14T17:17:59.348051Z",
     "shell.execute_reply": "2025-06-14T17:17:59.347373Z",
     "shell.execute_reply.started": "2025-06-14T17:17:59.261910Z"
    }
   },
   "outputs": [
    {
     "name": "stdout",
     "output_type": "stream",
     "text": [
      "Remove 325 unigrams\n"
     ]
    }
   ],
   "source": [
    "unigrams_to_remove = list(uni_comp[(uni_comp.diff_ <=0.15) & (uni_comp.count_ms >= 25)].iloc[:,0])\n",
    "print(\"Remove {} unigrams\".format(len(unigrams_to_remove)))"
   ]
  },
  {
   "cell_type": "code",
   "execution_count": 13,
   "id": "9063531e-dfd2-42d2-b49f-caf5d1f76484",
   "metadata": {
    "execution": {
     "iopub.execute_input": "2025-06-14T17:17:59.349400Z",
     "iopub.status.busy": "2025-06-14T17:17:59.348874Z",
     "iopub.status.idle": "2025-06-14T17:17:59.368863Z",
     "shell.execute_reply": "2025-06-14T17:17:59.368192Z",
     "shell.execute_reply.started": "2025-06-14T17:17:59.349370Z"
    }
   },
   "outputs": [],
   "source": [
    "# Function to remove the selected unigrams and bigrams\n",
    "def clean_text(text):\n",
    "    tokens = word_tokenize(text.lower())\n",
    "    bigrams = list(ngrams(tokens, 2))\n",
    "\n",
    "    # Remove unwanted unigrams\n",
    "    tokens = [word for word in tokens if word not in unigrams_to_remove]\n",
    "\n",
    "    # Remove unwanted bigrams\n",
    "    filtered_tokens = []\n",
    "    i = 0\n",
    "    while i < len(tokens):\n",
    "        if i < len(tokens) - 1 and (tokens[i], tokens[i+1]) in bigrams_to_remove:\n",
    "            i += 2 # skip both words in the bigram\n",
    "        else:\n",
    "            filtered_tokens.append(tokens[i])\n",
    "            i += 1\n",
    "\n",
    "    return ' '.join(filtered_tokens)\n"
   ]
  },
  {
   "cell_type": "code",
   "execution_count": 14,
   "id": "e067a290-2893-4e89-805b-7cd9b3114028",
   "metadata": {
    "execution": {
     "iopub.execute_input": "2025-06-14T17:17:59.371810Z",
     "iopub.status.busy": "2025-06-14T17:17:59.371542Z",
     "iopub.status.idle": "2025-06-14T17:18:26.454424Z",
     "shell.execute_reply": "2025-06-14T17:18:26.453823Z",
     "shell.execute_reply.started": "2025-06-14T17:17:59.371791Z"
    }
   },
   "outputs": [
    {
     "data": {
      "text/html": [
       "<div>\n",
       "<style scoped>\n",
       "    .dataframe tbody tr th:only-of-type {\n",
       "        vertical-align: middle;\n",
       "    }\n",
       "\n",
       "    .dataframe tbody tr th {\n",
       "        vertical-align: top;\n",
       "    }\n",
       "\n",
       "    .dataframe thead th {\n",
       "        text-align: right;\n",
       "    }\n",
       "</style>\n",
       "<table border=\"1\" class=\"dataframe\">\n",
       "  <thead>\n",
       "    <tr style=\"text-align: right;\">\n",
       "      <th></th>\n",
       "      <th>ID</th>\n",
       "      <th>Cali_ind</th>\n",
       "      <th>TikTok_ind</th>\n",
       "      <th>job_description_text</th>\n",
       "      <th>seniority_level</th>\n",
       "      <th>desc_clean</th>\n",
       "    </tr>\n",
       "  </thead>\n",
       "  <tbody>\n",
       "    <tr>\n",
       "      <th>1</th>\n",
       "      <td>1</td>\n",
       "      <td>1</td>\n",
       "      <td>0</td>\n",
       "      <td>Company DescriptionThe Ikigai platform unlocks...</td>\n",
       "      <td>Mid-Senior level</td>\n",
       "      <td>company descriptionthe ikigai platform unlocks...</td>\n",
       "    </tr>\n",
       "    <tr>\n",
       "      <th>4</th>\n",
       "      <td>4</td>\n",
       "      <td>0</td>\n",
       "      <td>0</td>\n",
       "      <td>Job Title: Machine Learning EngineerLocation: ...</td>\n",
       "      <td>Mid-Senior level</td>\n",
       "      <td>job title : engineerlocation : remotewho we ar...</td>\n",
       "    </tr>\n",
       "    <tr>\n",
       "      <th>21</th>\n",
       "      <td>21</td>\n",
       "      <td>0</td>\n",
       "      <td>0</td>\n",
       "      <td>About UsNational Grid is hiring a Senior Data ...</td>\n",
       "      <td>Mid-Senior level</td>\n",
       "      <td>about usnational grid is hiring a senior data ...</td>\n",
       "    </tr>\n",
       "    <tr>\n",
       "      <th>22</th>\n",
       "      <td>22</td>\n",
       "      <td>0</td>\n",
       "      <td>0</td>\n",
       "      <td>About UsNational Grid is hiring a Senior Data ...</td>\n",
       "      <td>Mid-Senior level</td>\n",
       "      <td>about usnational grid is hiring a senior data ...</td>\n",
       "    </tr>\n",
       "    <tr>\n",
       "      <th>23</th>\n",
       "      <td>23</td>\n",
       "      <td>0</td>\n",
       "      <td>0</td>\n",
       "      <td>About UsNational Grid is hiring a Senior Data ...</td>\n",
       "      <td>Mid-Senior level</td>\n",
       "      <td>about usnational grid is hiring a senior data ...</td>\n",
       "    </tr>\n",
       "    <tr>\n",
       "      <th>...</th>\n",
       "      <td>...</td>\n",
       "      <td>...</td>\n",
       "      <td>...</td>\n",
       "      <td>...</td>\n",
       "      <td>...</td>\n",
       "      <td>...</td>\n",
       "    </tr>\n",
       "    <tr>\n",
       "      <th>965</th>\n",
       "      <td>965</td>\n",
       "      <td>0</td>\n",
       "      <td>0</td>\n",
       "      <td>What is Aviture?Aviture is a full-service tech...</td>\n",
       "      <td>Junior level</td>\n",
       "      <td>what is aviture ? aviture is a full-service te...</td>\n",
       "    </tr>\n",
       "    <tr>\n",
       "      <th>976</th>\n",
       "      <td>976</td>\n",
       "      <td>1</td>\n",
       "      <td>0</td>\n",
       "      <td>Location: US RemoteJob SummaryWe are seeking a...</td>\n",
       "      <td>Junior level</td>\n",
       "      <td>location : us remotejob summarywe are seeking ...</td>\n",
       "    </tr>\n",
       "    <tr>\n",
       "      <th>980</th>\n",
       "      <td>980</td>\n",
       "      <td>1</td>\n",
       "      <td>1</td>\n",
       "      <td>ResponsibilitiesThe Business Risk Integrated C...</td>\n",
       "      <td>Junior level</td>\n",
       "      <td>responsibilitiesthe business risk integrated c...</td>\n",
       "    </tr>\n",
       "    <tr>\n",
       "      <th>981</th>\n",
       "      <td>981</td>\n",
       "      <td>1</td>\n",
       "      <td>0</td>\n",
       "      <td>Location: US RemoteJob SummaryWe are seeking a...</td>\n",
       "      <td>Junior level</td>\n",
       "      <td>location : us remotejob summarywe are seeking ...</td>\n",
       "    </tr>\n",
       "    <tr>\n",
       "      <th>982</th>\n",
       "      <td>982</td>\n",
       "      <td>1</td>\n",
       "      <td>0</td>\n",
       "      <td>Location: US RemoteJob SummaryWe are seeking a...</td>\n",
       "      <td>Junior level</td>\n",
       "      <td>location : us remotejob summarywe are seeking ...</td>\n",
       "    </tr>\n",
       "  </tbody>\n",
       "</table>\n",
       "<p>741 rows × 6 columns</p>\n",
       "</div>"
      ],
      "text/plain": [
       "      ID Cali_ind TikTok_ind  \\\n",
       "1      1        1          0   \n",
       "4      4        0          0   \n",
       "21    21        0          0   \n",
       "22    22        0          0   \n",
       "23    23        0          0   \n",
       "..   ...      ...        ...   \n",
       "965  965        0          0   \n",
       "976  976        1          0   \n",
       "980  980        1          1   \n",
       "981  981        1          0   \n",
       "982  982        1          0   \n",
       "\n",
       "                                  job_description_text   seniority_level  \\\n",
       "1    Company DescriptionThe Ikigai platform unlocks...  Mid-Senior level   \n",
       "4    Job Title: Machine Learning EngineerLocation: ...  Mid-Senior level   \n",
       "21   About UsNational Grid is hiring a Senior Data ...  Mid-Senior level   \n",
       "22   About UsNational Grid is hiring a Senior Data ...  Mid-Senior level   \n",
       "23   About UsNational Grid is hiring a Senior Data ...  Mid-Senior level   \n",
       "..                                                 ...               ...   \n",
       "965  What is Aviture?Aviture is a full-service tech...      Junior level   \n",
       "976  Location: US RemoteJob SummaryWe are seeking a...      Junior level   \n",
       "980  ResponsibilitiesThe Business Risk Integrated C...      Junior level   \n",
       "981  Location: US RemoteJob SummaryWe are seeking a...      Junior level   \n",
       "982  Location: US RemoteJob SummaryWe are seeking a...      Junior level   \n",
       "\n",
       "                                            desc_clean  \n",
       "1    company descriptionthe ikigai platform unlocks...  \n",
       "4    job title : engineerlocation : remotewho we ar...  \n",
       "21   about usnational grid is hiring a senior data ...  \n",
       "22   about usnational grid is hiring a senior data ...  \n",
       "23   about usnational grid is hiring a senior data ...  \n",
       "..                                                 ...  \n",
       "965  what is aviture ? aviture is a full-service te...  \n",
       "976  location : us remotejob summarywe are seeking ...  \n",
       "980  responsibilitiesthe business risk integrated c...  \n",
       "981  location : us remotejob summarywe are seeking ...  \n",
       "982  location : us remotejob summarywe are seeking ...  \n",
       "\n",
       "[741 rows x 6 columns]"
      ]
     },
     "execution_count": 14,
     "metadata": {},
     "output_type": "execute_result"
    }
   ],
   "source": [
    "# The variable 'desc_clean' contains the cleaned vacancies  \n",
    "pre_model['desc_clean'] = pre_model['job_description_text'].apply(clean_text)\n",
    "pre_model"
   ]
  },
  {
   "cell_type": "code",
   "execution_count": 15,
   "id": "086255a0-a330-4b8a-8d62-e6eca706f690",
   "metadata": {
    "execution": {
     "iopub.execute_input": "2025-06-14T17:18:26.455350Z",
     "iopub.status.busy": "2025-06-14T17:18:26.455113Z",
     "iopub.status.idle": "2025-06-14T17:18:28.648387Z",
     "shell.execute_reply": "2025-06-14T17:18:28.647730Z",
     "shell.execute_reply.started": "2025-06-14T17:18:26.455332Z"
    }
   },
   "outputs": [
    {
     "data": {
      "image/png": "[encoded data removed]",
      "text/plain": [
       "<Figure size 640x480 with 1 Axes>"
      ]
     },
     "metadata": {},
     "output_type": "display_data"
    }
   ],
   "source": [
    "# All bigrams in 'Mid-Senior level' vacancies \n",
    "bigram_ms_adj = pre_model[pre_model.seniority_level == 'Mid-Senior level']\n",
    "words_ms_adj = basic_clean(''.join(str(bigram_ms_adj['desc_clean'].tolist())))\n",
    "\n",
    "# Plot the cleaned bigram list \n",
    "(pd.Series(nltk.ngrams(words_ms_adj, 2)).value_counts())[:11].sort_values().plot(kind= 'barh')\n",
    "plt.xlabel('Count', fontsize = 14)\n",
    "plt.ylabel('Bigram', fontsize = 14)\n",
    "plt.xlim(0, 1500)\n",
    "#plt.xticks(rotation = 75)\n",
    "plt.title('Top 10 Bigrams in Mid-Senior level vacancies (cleaned dataset)')\n",
    "plt.show()"
   ]
  },
  {
   "cell_type": "code",
   "execution_count": 16,
   "id": "e8349f2c-5b42-46dd-89dc-e239a8157415",
   "metadata": {
    "execution": {
     "iopub.execute_input": "2025-06-14T17:18:28.649374Z",
     "iopub.status.busy": "2025-06-14T17:18:28.649189Z",
     "iopub.status.idle": "2025-06-14T17:18:33.146634Z",
     "shell.execute_reply": "2025-06-14T17:18:33.145834Z",
     "shell.execute_reply.started": "2025-06-14T17:18:28.649358Z"
    }
   },
   "outputs": [
    {
     "data": {
      "image/png": "[encoded data removed]",
      "text/plain": [
       "<Figure size 640x480 with 1 Axes>"
      ]
     },
     "metadata": {},
     "output_type": "display_data"
    }
   ],
   "source": [
    "# All bigrams in 'Junior level' vacancies\n",
    "bigram_jr_adj = pre_model[pre_model.seniority_level == 'Junior level']\n",
    "words_jr_adj = basic_clean(''.join(str(bigram_jr_adj['desc_clean'].tolist())))\n",
    "\n",
    "# Plot the cleaned bigram list \n",
    "(pd.Series(nltk.ngrams(words_jr_adj, 2)).value_counts())[:11].sort_values().plot(kind= 'barh')\n",
    "plt.xlabel('Count', fontsize = 14)\n",
    "plt.ylabel('Bigram', fontsize = 14)\n",
    "plt.xlim(0, 1500)\n",
    "#plt.xticks(rotation = 75)\n",
    "plt.title('Top 10 Bigrams in Junior level vacancies (cleaned dataset)')\n",
    "plt.show()\n"
   ]
  },
  {
   "cell_type": "code",
   "execution_count": 17,
   "id": "766bec2a-65dd-408a-8e09-846d820d2c7d",
   "metadata": {
    "execution": {
     "iopub.execute_input": "2025-06-10T18:47:26.805705Z",
     "iopub.status.busy": "2025-06-10T18:47:26.805402Z",
     "iopub.status.idle": "2025-06-10T18:47:27.359687Z",
     "shell.execute_reply": "2025-06-10T18:47:27.359098Z",
     "shell.execute_reply.started": "2025-06-10T18:47:26.805685Z"
    }
   },
   "outputs": [],
   "source": [
    "# Dataset to fit and score the model \n",
    "model_dataset = pre_model.iloc[:,[0,4,5]]\n",
    "model_dataset.to_csv('model_dataset_att2.csv', index=False)"
   ]
  },
  {
   "cell_type": "code",
   "execution_count": 17,
   "id": "93d93622-dc59-40b5-857a-79182734386a",
   "metadata": {
    "execution": {
     "iopub.execute_input": "2025-06-14T17:18:35.148395Z",
     "iopub.status.busy": "2025-06-14T17:18:35.148174Z",
     "iopub.status.idle": "2025-06-14T17:18:35.152129Z",
     "shell.execute_reply": "2025-06-14T17:18:35.151619Z",
     "shell.execute_reply.started": "2025-06-14T17:18:35.148378Z"
    }
   },
   "outputs": [
    {
     "data": {
      "text/markdown": [
       "# Sources\n",
       "https://medium.com/data-science/from-dataframe-to-n-grams-e34e29df3460\n"
      ],
      "text/plain": [
       "<IPython.core.display.Markdown object>"
      ]
     },
     "metadata": {},
     "output_type": "display_data"
    }
   ],
   "source": [
    "%%markdown\n",
    "# Sources\n",
    "https://medium.com/data-science/from-dataframe-to-n-grams-e34e29df3460"
   ]
  }
 ],
 "metadata": {
  "kernelspec": {
   "display_name": "anaconda-panel-2023.05-py310",
   "language": "python",
   "name": "conda-env-anaconda-panel-2023.05-py310-py"
  },
  "language_info": {
   "codemirror_mode": {
    "name": "ipython",
    "version": 3
   },
   "file_extension": ".py",
   "mimetype": "text/x-python",
   "name": "python",
   "nbconvert_exporter": "python",
   "pygments_lexer": "ipython3",
   "version": "3.11.5"
  }
 },
 "nbformat": 4,
 "nbformat_minor": 5
}
